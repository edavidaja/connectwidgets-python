{
  "cells": [
    {
      "cell_type": "raw",
      "metadata": {},
      "source": [
        "---\n",
        "title: About\n",
        "---"
      ],
      "id": "8681e07a"
    },
    {
      "cell_type": "markdown",
      "metadata": {},
      "source": [
        "This [Quarto Website](https://quarto.org/docs/websites/) shows how the [Posit\n",
        "Connect Server API](https://docs.posit.co/connect/api/) can combine with\n",
        "[Quarto Listings](https://quarto.org/docs/websites/website-listings.html) to\n",
        "create dashboards that highlight your content.\n"
      ],
      "id": "f0432496"
    },
    {
      "cell_type": "code",
      "metadata": {},
      "source": [
        "#| echo: false\n",
        "#| output: asis\n",
        "\n",
        "import yaml\n",
        "with open(\"featured.yaml\", \"r\") as f:\n",
        "    featured = len(yaml.safe_load(f))\n",
        "with open(\"all.yaml\", \"r\") as f:\n",
        "    listing = len(yaml.safe_load(f))\n",
        "\n",
        "print(f\"This dashboard presents {featured} featured content items with {listing} total items.\")"
      ],
      "id": "e9bf4866",
      "execution_count": null,
      "outputs": []
    }
  ],
  "metadata": {
    "kernelspec": {
      "display_name": "Python 3",
      "language": "python",
      "name": "python3"
    }
  },
  "nbformat": 4,
  "nbformat_minor": 5
}